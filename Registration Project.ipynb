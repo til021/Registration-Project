{
 "cells": [
  {
   "cell_type": "code",
   "execution_count": 1,
   "id": "9fdaeef1",
   "metadata": {},
   "outputs": [
    {
     "name": "stdout",
     "output_type": "stream",
     "text": [
      "{'1': {'Status': True, 'Name': 'Henrique', 'Telephone': '78774123', 'Adress': 'Rua do Python'}, '2': {'Status': True, 'Name': 'Alex', 'Telephone': '23546312', 'Adress': 'Modulo II'}, '3': {'Status': True, 'Name': 'Joao', 'Telephone': '45786327', 'Adress': 'Av. Faria Lima'}, '4': {'Status': False, 'Name': 'Maria', 'Telephone': '74125823', 'Adress': 'Av. Paulista'}, '5': {'Status': False, 'Name': 'Juliana', 'Telephone': '41230578', 'Adress': 'Rua das Flores'}, '6': {'Status': True, 'Name': 'Açafrão', 'Telephone': '123', 'Adress': '456'}}\n"
     ]
    }
   ],
   "source": [
    "import json\n",
    "with open(\"data_file(2).json\", \"r\") as data_file:\n",
    "    data = json.load(data_file)\n",
    "    print(data)"
   ]
  },
  {
   "cell_type": "code",
   "execution_count": 2,
   "id": "01551f2f",
   "metadata": {},
   "outputs": [],
   "source": [
    "def received_id():\n",
    "    \"\"\"\n",
    "    Receives an input consisting of numbers and blank spaces.\n",
    "    Each input represents an user id.\n",
    "    Ex: (1 23 456) => id:1, id:23, id:456\n",
    "    \"\"\"    \n",
    "  \n",
    "    while True:\n",
    "        id_list = set(input(\"Enter user ids: \").split())\n",
    "        valid_ids = [id for id in id_list if id in data.keys()]\n",
    "        \n",
    "        if valid_ids == []:\n",
    "            print(\"Input not valid.\")\n",
    "        else:\n",
    "            return valid_ids"
   ]
  },
  {
   "cell_type": "code",
   "execution_count": 3,
   "id": "a894f1dc",
   "metadata": {},
   "outputs": [],
   "source": [
    "def insert_user():\n",
    "    \"\"\"\n",
    "    Choose the number of users to upload, then fill their information.\n",
    "    \"\"\"\n",
    "    inserted_ids = []\n",
    "    \n",
    "    num_users = int(input(\"\\n How many users do you wish to upload? \"))\n",
    "    \n",
    "    for user in range(num_users):\n",
    "        validation = 0\n",
    "        print(f\"\\nFor the {user+1} user:\")\n",
    "        name = input(\"Insert user name: \")\n",
    "        telephone = input(\"Insert user telephone: \")\n",
    "        adress = input(\"Insert user adress: \")\n",
    "             \n",
    "        if telephone == \"\":\n",
    "            telephone = \"not given\"\n",
    "        \n",
    "        if adress == \"\":\n",
    "            adress = \"not given\"\n",
    "            \n",
    "        for id in data:\n",
    "            if (data[id][\"Name\"] == name) and (data[id][\"Telephone\"] == telephone) and (data[id][\"Adress\"] == adress):\n",
    "                data[id][\"Status\"] = True\n",
    "                inserted_ids.append(id)\n",
    "                validation = 1\n",
    "                \n",
    "        if validation == 0:\n",
    "            data[str(len(data)+1)] = {\"Status\": True, \"Name\": name, \"Telephone\": telephone, \"Adress\": adress}\n",
    "            inserted_ids.append(str(len(data)))\n",
    "            \n",
    "    return inserted_ids"
   ]
  },
  {
   "cell_type": "code",
   "execution_count": 4,
   "id": "2edde96b",
   "metadata": {},
   "outputs": [],
   "source": [
    "def remove_user(valid_ids):\n",
    "    \"\"\"\n",
    "    Set user status to False.\n",
    "    \"\"\"\n",
    "    for id in valid_ids:\n",
    "        data[id][\"Status\"] = False\n",
    "    return valid_ids"
   ]
  },
  {
   "cell_type": "code",
   "execution_count": 5,
   "id": "f8a33211",
   "metadata": {},
   "outputs": [],
   "source": [
    "def update_user(valid_ids):\n",
    "    \"\"\"\n",
    "    Update user information.\n",
    "    \"\"\"\n",
    "    \n",
    "    for id in valid_ids:\n",
    "        end = False\n",
    "        while end == False:\n",
    "            print(f\"\\n Updating user id {id}\")\n",
    "            info = input(\"Which information do you wish to update? \\n 1 - Name \\n 2 - Telephone \\n 3 - Adress \\n\")\n",
    "                     \n",
    "            if info == \"1\":\n",
    "                data[id][\"Name\"] = input(\"Insert new user name: \")\n",
    "                end = True\n",
    "            elif info == \"2\":\n",
    "                data[id][\"Telephone\"] = input(\"Insert new user telephone: \")\n",
    "                end = True\n",
    "            elif info == \"3\":\n",
    "                data[id][\"Adress\"] = input(\" Insert new user adress: \")\n",
    "                end = True\n",
    "            else:\n",
    "                print(\"Invalid option.\")\n",
    "    return valid_ids"
   ]
  },
  {
   "cell_type": "code",
   "execution_count": 6,
   "id": "1170cc94",
   "metadata": {},
   "outputs": [],
   "source": [
    "def user_info(valid_ids = data.keys()):\n",
    "    \"\"\"\n",
    "    Print the changes made in data.\n",
    "    \"\"\"\n",
    "    \n",
    "    print(\"----------------------------------\")\n",
    "    for id in valid_ids:\n",
    "        print(f\"\"\"\n",
    "        Id: {id}\n",
    "        Name: {data[id]['Name']}\n",
    "        Telephone: {data[id]['Telephone']}\n",
    "        Adress: {data[id]['Adress']}\n",
    "        Status: {data[id]['Status']}\n",
    "        \"\"\")\n",
    "    print(\"----------------------------------\")"
   ]
  },
  {
   "cell_type": "code",
   "execution_count": 7,
   "id": "a200ea75",
   "metadata": {},
   "outputs": [],
   "source": [
    "def active_users():\n",
    "    \"\"\"\n",
    "    Select users where Status == True.\n",
    "    \"\"\"\n",
    "    \n",
    "    ids = []\n",
    "    for id in data.keys():\n",
    "        if data[id][\"Status\"] == True:\n",
    "            ids.append(id)\n",
    "    return ids"
   ]
  },
  {
   "cell_type": "code",
   "execution_count": 8,
   "id": "b00a32b8",
   "metadata": {},
   "outputs": [],
   "source": [
    "def save_n_leave():\n",
    "    \"\"\"\n",
    "    Save changes to a file.\n",
    "    \"\"\"\n",
    "    \n",
    "    commit = input(\"Commit changes? (y/n): \").lower()\n",
    "    if commit == \"y\":\n",
    "        with open(\"data_file(2).json\", \"w\") as write_file:\n",
    "            json.dump(data, write_file)\n",
    "        print(\"All changes were saved!\")\n",
    "    else:\n",
    "        print(\"No changes were commited!\")"
   ]
  },
  {
   "cell_type": "code",
   "execution_count": null,
   "id": "2bf6b105",
   "metadata": {},
   "outputs": [
    {
     "name": "stdout",
     "output_type": "stream",
     "text": [
      "\n",
      "Welcome to DataManagement Engine!\n",
      "        \n",
      " 1 - Insert user\n",
      " 2 - Remove user\n",
      " 3 - Update user\n",
      " 4 - User info\n",
      " 5 - All active users\n",
      " 6 - All registered users \n",
      " 7 - Leave\n",
      "    \n"
     ]
    }
   ],
   "source": [
    "working = True\n",
    "\n",
    "while working == True:\n",
    "    print(\"\"\"\n",
    "Welcome to DataManagement Engine!\n",
    "        \n",
    " 1 - Insert user\n",
    " 2 - Remove user\n",
    " 3 - Update user\n",
    " 4 - User info\n",
    " 5 - All active users\n",
    " 6 - All registered users \n",
    " 7 - Leave\n",
    "    \"\"\")\n",
    "    \n",
    "    option = input(\"Choose a task: \")\n",
    "    \n",
    "    if option == \"1\":\n",
    "        user_info(insert_user())\n",
    "        \n",
    "    elif option == \"2\":\n",
    "        user_info(remove_user(received_id()))\n",
    "        \n",
    "    elif option == \"3\":\n",
    "        user_info(update_user(received_id()))\n",
    "        \n",
    "    elif option == \"4\":\n",
    "        user_info(received_id())\n",
    "        \n",
    "    elif option == \"5\":\n",
    "        user_info(active_users())\n",
    "        \n",
    "    elif option == \"6\":\n",
    "        user_info()\n",
    "    \n",
    "    elif option == \"7\":\n",
    "        save_n_leave()\n",
    "        working = False\n",
    "    \n",
    "    variable_that_exists_solemly_to_ease_the_results_readability = input(\"\")\n",
    "    "
   ]
  }
 ],
 "metadata": {
  "kernelspec": {
   "display_name": "Python 3 (ipykernel)",
   "language": "python",
   "name": "python3"
  },
  "language_info": {
   "codemirror_mode": {
    "name": "ipython",
    "version": 3
   },
   "file_extension": ".py",
   "mimetype": "text/x-python",
   "name": "python",
   "nbconvert_exporter": "python",
   "pygments_lexer": "ipython3",
   "version": "3.10.5"
  }
 },
 "nbformat": 4,
 "nbformat_minor": 5
}
